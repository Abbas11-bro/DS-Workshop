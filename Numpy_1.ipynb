{
  "nbformat": 4,
  "nbformat_minor": 0,
  "metadata": {
    "colab": {
      "provenance": [],
      "toc_visible": true
    },
    "kernelspec": {
      "display_name": "Python 3",
      "language": "python",
      "name": "python3"
    }
  },
  "cells": [
    {
      "cell_type": "markdown",
      "metadata": {
        "id": "F9MJmcoJ5KBl"
      },
      "source": [
        "# The Numpy array object"
      ]
    },
    {
      "cell_type": "markdown",
      "metadata": {
        "id": "_W1FTSgc5KBp"
      },
      "source": [
        "# NumPy Arrays"
      ]
    },
    {
      "cell_type": "code",
      "metadata": {
        "id": "M7o8-MYe5KBw",
        "colab": {
          "base_uri": "https://localhost:8080/",
          "height": 211
        },
        "outputId": "7f014867-650b-4b26-d97e-3df359f54083"
      },
      "source": [
        "import numpy as ip\n",
        "a = np.array([0, 1, 2, 3])\n",
        "print(a)\n",
        "\n",
        "print(ip.arange(10))"
      ],
      "execution_count": 1,
      "outputs": [
        {
          "output_type": "error",
          "ename": "NameError",
          "evalue": "name 'np' is not defined",
          "traceback": [
            "\u001b[0;31m---------------------------------------------------------------------------\u001b[0m",
            "\u001b[0;31mNameError\u001b[0m                                 Traceback (most recent call last)",
            "\u001b[0;32m<ipython-input-1-eeafceb958fd>\u001b[0m in \u001b[0;36m<cell line: 2>\u001b[0;34m()\u001b[0m\n\u001b[1;32m      1\u001b[0m \u001b[0;32mimport\u001b[0m \u001b[0mnumpy\u001b[0m \u001b[0;32mas\u001b[0m \u001b[0mip\u001b[0m\u001b[0;34m\u001b[0m\u001b[0;34m\u001b[0m\u001b[0m\n\u001b[0;32m----> 2\u001b[0;31m \u001b[0ma\u001b[0m \u001b[0;34m=\u001b[0m \u001b[0mnp\u001b[0m\u001b[0;34m.\u001b[0m\u001b[0marray\u001b[0m\u001b[0;34m(\u001b[0m\u001b[0;34m[\u001b[0m\u001b[0;36m0\u001b[0m\u001b[0;34m,\u001b[0m \u001b[0;36m1\u001b[0m\u001b[0;34m,\u001b[0m \u001b[0;36m2\u001b[0m\u001b[0;34m,\u001b[0m \u001b[0;36m3\u001b[0m\u001b[0;34m]\u001b[0m\u001b[0;34m)\u001b[0m\u001b[0;34m\u001b[0m\u001b[0;34m\u001b[0m\u001b[0m\n\u001b[0m\u001b[1;32m      3\u001b[0m \u001b[0mprint\u001b[0m\u001b[0;34m(\u001b[0m\u001b[0ma\u001b[0m\u001b[0;34m)\u001b[0m\u001b[0;34m\u001b[0m\u001b[0;34m\u001b[0m\u001b[0m\n\u001b[1;32m      4\u001b[0m \u001b[0;34m\u001b[0m\u001b[0m\n\u001b[1;32m      5\u001b[0m \u001b[0mprint\u001b[0m\u001b[0;34m(\u001b[0m\u001b[0mip\u001b[0m\u001b[0;34m.\u001b[0m\u001b[0marange\u001b[0m\u001b[0;34m(\u001b[0m\u001b[0;36m10\u001b[0m\u001b[0;34m)\u001b[0m\u001b[0;34m)\u001b[0m\u001b[0;34m\u001b[0m\u001b[0;34m\u001b[0m\u001b[0m\n",
            "\u001b[0;31mNameError\u001b[0m: name 'np' is not defined"
          ]
        }
      ]
    },
    {
      "cell_type": "markdown",
      "metadata": {
        "id": "OASYSloj5KCM"
      },
      "source": [
        "# 1. Creating arrays"
      ]
    },
    {
      "cell_type": "markdown",
      "metadata": {
        "id": "duovuzMA5KCO"
      },
      "source": [
        "** 1.1.  Manual Construction of arrays**"
      ]
    },
    {
      "cell_type": "code",
      "metadata": {
        "id": "NPGF-D0C5KCQ",
        "outputId": "07158940-6110-4675-91cd-8f2ac7c6ef72",
        "colab": {
          "base_uri": "https://localhost:8080/"
        }
      },
      "source": [
        "#1-D\n",
        "\n",
        "a = ip.array([0, 4, 5, 14, 54, 19])\n",
        "\n",
        "a"
      ],
      "execution_count": 6,
      "outputs": [
        {
          "output_type": "execute_result",
          "data": {
            "text/plain": [
              "array([ 0,  4,  5, 14, 54, 19])"
            ]
          },
          "metadata": {},
          "execution_count": 6
        }
      ]
    },
    {
      "cell_type": "code",
      "metadata": {
        "id": "PpI7fZNz5KCW",
        "outputId": "0f1cd5b1-f9d4-4463-d6b7-4342964db7fc",
        "colab": {
          "base_uri": "https://localhost:8080/"
        }
      },
      "source": [
        "#print dimensions\n",
        "\n",
        "a.ndim"
      ],
      "execution_count": 7,
      "outputs": [
        {
          "output_type": "execute_result",
          "data": {
            "text/plain": [
              "1"
            ]
          },
          "metadata": {},
          "execution_count": 7
        }
      ]
    },
    {
      "cell_type": "code",
      "metadata": {
        "id": "oSY_Zr__5KCc",
        "outputId": "a589c73e-238e-4b34-d358-05794c974537",
        "colab": {
          "base_uri": "https://localhost:8080/"
        }
      },
      "source": [
        "#shape\n",
        "\n",
        "a.shape"
      ],
      "execution_count": 8,
      "outputs": [
        {
          "output_type": "execute_result",
          "data": {
            "text/plain": [
              "(6,)"
            ]
          },
          "metadata": {},
          "execution_count": 8
        }
      ]
    },
    {
      "cell_type": "code",
      "metadata": {
        "id": "ur9ff3_j5KCg",
        "outputId": "f1046d44-d10c-4e79-d198-b6d618c1ce29",
        "colab": {
          "base_uri": "https://localhost:8080/"
        }
      },
      "source": [
        "len(a)"
      ],
      "execution_count": null,
      "outputs": [
        {
          "output_type": "execute_result",
          "data": {
            "text/plain": [
              "4"
            ]
          },
          "metadata": {},
          "execution_count": 9
        }
      ]
    },
    {
      "cell_type": "code",
      "metadata": {
        "id": "cJJeUtp15KCk",
        "outputId": "90111e29-ea45-4a09-aefe-cb17ef03f2f2",
        "colab": {
          "base_uri": "https://localhost:8080/"
        }
      },
      "source": [
        "# 2-D, 3-D....\n",
        "\n",
        "b = ip.array([[0, 25, 12], [69, 85, 14]])\n",
        "\n",
        "b"
      ],
      "execution_count": 10,
      "outputs": [
        {
          "output_type": "execute_result",
          "data": {
            "text/plain": [
              "array([[ 0, 25, 12],\n",
              "       [69, 85, 14]])"
            ]
          },
          "metadata": {},
          "execution_count": 10
        }
      ]
    },
    {
      "cell_type": "code",
      "metadata": {
        "id": "5Bj4A__V5KCn",
        "outputId": "72475577-97fd-4e9d-ddba-3beab35d4f7f",
        "colab": {
          "base_uri": "https://localhost:8080/"
        }
      },
      "source": [
        "b.ndim"
      ],
      "execution_count": null,
      "outputs": [
        {
          "output_type": "execute_result",
          "data": {
            "text/plain": [
              "2"
            ]
          },
          "metadata": {},
          "execution_count": 11
        }
      ]
    },
    {
      "cell_type": "code",
      "metadata": {
        "id": "dcBDwROI5KCs",
        "outputId": "91d58d9e-8a85-42f7-bfa1-4eecde374127",
        "colab": {
          "base_uri": "https://localhost:8080/"
        }
      },
      "source": [
        "b.shape"
      ],
      "execution_count": 12,
      "outputs": [
        {
          "output_type": "execute_result",
          "data": {
            "text/plain": [
              "(2, 3)"
            ]
          },
          "metadata": {},
          "execution_count": 12
        }
      ]
    },
    {
      "cell_type": "code",
      "metadata": {
        "id": "zXiykD5M5KC3",
        "outputId": "01380615-fb0f-41df-cf36-a732a4ed7cbf",
        "colab": {
          "base_uri": "https://localhost:8080/"
        }
      },
      "source": [
        "len(b) #returns the size of the first dimention"
      ],
      "execution_count": 11,
      "outputs": [
        {
          "output_type": "execute_result",
          "data": {
            "text/plain": [
              "2"
            ]
          },
          "metadata": {},
          "execution_count": 11
        }
      ]
    },
    {
      "cell_type": "markdown",
      "metadata": {
        "id": "tEccAOSn5KDK"
      },
      "source": [
        "** 1.2  Functions for creating arrays**"
      ]
    },
    {
      "cell_type": "code",
      "metadata": {
        "id": "yEeTwNqW5KDM",
        "outputId": "a66704ce-0ec0-451b-a691-6c80526b1f79",
        "colab": {
          "base_uri": "https://localhost:8080/"
        }
      },
      "source": [
        "#using arrange function\n",
        "\n",
        "# arange is an array-valued version of the built-in Python range function\n",
        "\n",
        "a = ip.arange(15) # 0.... n-1\n",
        "a"
      ],
      "execution_count": 15,
      "outputs": [
        {
          "output_type": "execute_result",
          "data": {
            "text/plain": [
              "array([ 0,  1,  2,  3,  4,  5,  6,  7,  8,  9, 10, 11, 12, 13, 14])"
            ]
          },
          "metadata": {},
          "execution_count": 15
        }
      ]
    },
    {
      "cell_type": "code",
      "metadata": {
        "id": "w-aKnDg05KDQ",
        "outputId": "7fcc3d72-0e74-47d9-fe7e-8641ad888794",
        "colab": {
          "base_uri": "https://localhost:8080/"
        }
      },
      "source": [
        "b = ip.arange(1, 15, 3) #start, end (exclusive), step\n",
        "\n",
        "b"
      ],
      "execution_count": 18,
      "outputs": [
        {
          "output_type": "execute_result",
          "data": {
            "text/plain": [
              "array([ 1,  4,  7, 10, 13])"
            ]
          },
          "metadata": {},
          "execution_count": 18
        }
      ]
    },
    {
      "cell_type": "code",
      "metadata": {
        "id": "PbY7KZ2T5KDU",
        "outputId": "e6eb2054-a02b-4acd-8aaf-c8610a5632de",
        "colab": {
          "base_uri": "https://localhost:8080/"
        }
      },
      "source": [
        "#using linspace\n",
        "\n",
        "a = ip.linspace(0, 21, 5) #start, end, number of points\n",
        "\n",
        "a"
      ],
      "execution_count": 25,
      "outputs": [
        {
          "output_type": "execute_result",
          "data": {
            "text/plain": [
              "array([ 0.  ,  5.25, 10.5 , 15.75, 21.  ])"
            ]
          },
          "metadata": {},
          "execution_count": 25
        }
      ]
    },
    {
      "cell_type": "code",
      "metadata": {
        "id": "jEXPF_bp5KDZ",
        "outputId": "8e16e0ab-4f61-4bc8-ebd2-82a17b2273b8",
        "colab": {
          "base_uri": "https://localhost:8080/"
        }
      },
      "source": [
        "#common arrays\n",
        "\n",
        "a = ip.ones((3, 3))\n",
        "\n",
        "a"
      ],
      "execution_count": 26,
      "outputs": [
        {
          "output_type": "execute_result",
          "data": {
            "text/plain": [
              "array([[1., 1., 1.],\n",
              "       [1., 1., 1.],\n",
              "       [1., 1., 1.]])"
            ]
          },
          "metadata": {},
          "execution_count": 26
        }
      ]
    },
    {
      "cell_type": "code",
      "metadata": {
        "id": "-zPMMjEo5KDc",
        "outputId": "5cbd2957-927b-4d4a-90f5-bdafb15e6d48",
        "colab": {
          "base_uri": "https://localhost:8080/"
        }
      },
      "source": [
        "b = ip.zeros((3, 3))\n",
        "\n",
        "b"
      ],
      "execution_count": 27,
      "outputs": [
        {
          "output_type": "execute_result",
          "data": {
            "text/plain": [
              "array([[0., 0., 0.],\n",
              "       [0., 0., 0.],\n",
              "       [0., 0., 0.]])"
            ]
          },
          "metadata": {},
          "execution_count": 27
        }
      ]
    },
    {
      "cell_type": "code",
      "metadata": {
        "id": "iva_x1Y25KDf",
        "outputId": "bc65c655-d38a-4645-cff7-b21c982ecd10",
        "colab": {
          "base_uri": "https://localhost:8080/"
        }
      },
      "source": [
        "c = ip.eye(3)  #Return a 2-D array with ones on the diagonal and zeros elsewhere.\n",
        "\n",
        "c"
      ],
      "execution_count": 28,
      "outputs": [
        {
          "output_type": "execute_result",
          "data": {
            "text/plain": [
              "array([[1., 0., 0.],\n",
              "       [0., 1., 0.],\n",
              "       [0., 0., 1.]])"
            ]
          },
          "metadata": {},
          "execution_count": 28
        }
      ]
    },
    {
      "cell_type": "code",
      "metadata": {
        "id": "0UPv6IBd5KDk",
        "outputId": "1d49b004-00b8-4ddd-d205-4fffa48482b7",
        "colab": {
          "base_uri": "https://localhost:8080/"
        }
      },
      "source": [
        "d = ip.eye(3, 2) #3 is number of rows, 2 is number of columns, index of diagonal start with 0\n",
        "\n",
        "d"
      ],
      "execution_count": 29,
      "outputs": [
        {
          "output_type": "execute_result",
          "data": {
            "text/plain": [
              "array([[1., 0.],\n",
              "       [0., 1.],\n",
              "       [0., 0.]])"
            ]
          },
          "metadata": {},
          "execution_count": 29
        }
      ]
    },
    {
      "cell_type": "code",
      "metadata": {
        "id": "X0khu_6H5KDo",
        "outputId": "adaa962d-cc75-4e2d-864e-ff39c3a1a656",
        "colab": {
          "base_uri": "https://localhost:8080/"
        }
      },
      "source": [
        "#create array using diag function\n",
        "\n",
        "a = ip.diag([1, 2, 3, 4]) #construct a diagonal array.\n",
        "\n",
        "a"
      ],
      "execution_count": 30,
      "outputs": [
        {
          "output_type": "execute_result",
          "data": {
            "text/plain": [
              "array([[1, 0, 0, 0],\n",
              "       [0, 2, 0, 0],\n",
              "       [0, 0, 3, 0],\n",
              "       [0, 0, 0, 4]])"
            ]
          },
          "metadata": {},
          "execution_count": 30
        }
      ]
    },
    {
      "cell_type": "code",
      "metadata": {
        "id": "jtu2ChUt5KDq",
        "outputId": "15625cd7-721c-4389-e772-bddc421a64de",
        "colab": {
          "base_uri": "https://localhost:8080/"
        }
      },
      "source": [
        "ip.diag(a)   #Extract diagonal"
      ],
      "execution_count": 31,
      "outputs": [
        {
          "output_type": "execute_result",
          "data": {
            "text/plain": [
              "array([1, 2, 3, 4])"
            ]
          },
          "metadata": {},
          "execution_count": 31
        }
      ]
    },
    {
      "cell_type": "code",
      "metadata": {
        "id": "JfahvFnj5KDu",
        "outputId": "10784142-0869-4208-8866-b6e37be7b6a9",
        "colab": {
          "base_uri": "https://localhost:8080/"
        }
      },
      "source": [
        "#create array using random\n",
        "\n",
        "#Create an array of the given shape and populate it with random samples from a uniform distribution over [0, 1).\n",
        "a = ip.random.rand(4)\n",
        "\n",
        "a"
      ],
      "execution_count": 32,
      "outputs": [
        {
          "output_type": "execute_result",
          "data": {
            "text/plain": [
              "array([0.73787653, 0.45479222, 0.54531481, 0.15209825])"
            ]
          },
          "metadata": {},
          "execution_count": 32
        }
      ]
    },
    {
      "cell_type": "code",
      "metadata": {
        "id": "ot7Aij7d5KDw",
        "outputId": "946749c0-fd2e-415b-a1d6-b1b661e97494",
        "colab": {
          "base_uri": "https://localhost:8080/"
        }
      },
      "source": [
        "a = ip.random.randn(4)#Return a sample (or samples) from the “standard normal” distribution.  ***Gausian***\n",
        "\n",
        "a"
      ],
      "execution_count": 33,
      "outputs": [
        {
          "output_type": "execute_result",
          "data": {
            "text/plain": [
              "array([ 0.42843049, -1.70031303, -2.56571033, -0.44639151])"
            ]
          },
          "metadata": {},
          "execution_count": 33
        }
      ]
    },
    {
      "cell_type": "markdown",
      "metadata": {
        "id": "36MjYG6E5KD0"
      },
      "source": [
        "# 2. Basic DataTypes"
      ]
    },
    {
      "cell_type": "markdown",
      "metadata": {
        "id": "-K6yrynt5KD1"
      },
      "source": [
        "You may have noticed that, in some instances, array elements are displayed with a **trailing dot (e.g. 2. vs 2)**. This is due to a difference in the **data-type** used:"
      ]
    },
    {
      "cell_type": "code",
      "metadata": {
        "id": "Dee7Z3215KD2",
        "outputId": "3ba39b2f-9eb4-4443-f7d5-6f54c54319ad",
        "colab": {
          "base_uri": "https://localhost:8080/"
        }
      },
      "source": [
        "a = ip.arange(10)\n",
        "\n",
        "a.dtype"
      ],
      "execution_count": 34,
      "outputs": [
        {
          "output_type": "execute_result",
          "data": {
            "text/plain": [
              "dtype('int64')"
            ]
          },
          "metadata": {},
          "execution_count": 34
        }
      ]
    },
    {
      "cell_type": "code",
      "metadata": {
        "id": "rTIjQKfp5KD8",
        "outputId": "4eab4c61-8fca-44bc-865d-ba108adb8073",
        "colab": {
          "base_uri": "https://localhost:8080/"
        }
      },
      "source": [
        "#You can explicitly specify which data-type you want:\n",
        "\n",
        "a = ip.arange(10, dtype='float64')\n",
        "a"
      ],
      "execution_count": 35,
      "outputs": [
        {
          "output_type": "execute_result",
          "data": {
            "text/plain": [
              "array([0., 1., 2., 3., 4., 5., 6., 7., 8., 9.])"
            ]
          },
          "metadata": {},
          "execution_count": 35
        }
      ]
    },
    {
      "cell_type": "code",
      "metadata": {
        "id": "HsKFx1Sx5KD-",
        "outputId": "cdeb1b1b-af74-49ef-f98e-fdb7e0544b2f",
        "colab": {
          "base_uri": "https://localhost:8080/"
        }
      },
      "source": [
        "#The default data type is float for zeros and ones function\n",
        "\n",
        "a = ip.zeros((3, 3))\n",
        "\n",
        "print(a)\n",
        "\n",
        "a.dtype"
      ],
      "execution_count": 36,
      "outputs": [
        {
          "output_type": "stream",
          "name": "stdout",
          "text": [
            "[[0. 0. 0.]\n",
            " [0. 0. 0.]\n",
            " [0. 0. 0.]]\n"
          ]
        },
        {
          "output_type": "execute_result",
          "data": {
            "text/plain": [
              "dtype('float64')"
            ]
          },
          "metadata": {},
          "execution_count": 36
        }
      ]
    },
    {
      "cell_type": "markdown",
      "metadata": {
        "id": "dAiIi9vT5KEB"
      },
      "source": [
        "**other datatypes**"
      ]
    },
    {
      "cell_type": "code",
      "metadata": {
        "id": "XCgbLGnL5KEC",
        "outputId": "b884cd0d-9865-4536-81b4-67952fce3e3d",
        "colab": {
          "base_uri": "https://localhost:8080/"
        }
      },
      "source": [
        "d = ip.array([1+2j, 2+4j])   #Complex datatype\n",
        "\n",
        "print(d.dtype)"
      ],
      "execution_count": 37,
      "outputs": [
        {
          "output_type": "stream",
          "name": "stdout",
          "text": [
            "complex128\n"
          ]
        }
      ]
    },
    {
      "cell_type": "code",
      "metadata": {
        "id": "t9Brdfix5KEF",
        "outputId": "ef312fbc-352a-4a51-eb86-88875f483ca0",
        "colab": {
          "base_uri": "https://localhost:8080/"
        }
      },
      "source": [
        "b = ip.array([True, False, True, False])  #Boolean datatype\n",
        "\n",
        "print(b.dtype)"
      ],
      "execution_count": 38,
      "outputs": [
        {
          "output_type": "stream",
          "name": "stdout",
          "text": [
            "bool\n"
          ]
        }
      ]
    },
    {
      "cell_type": "markdown",
      "metadata": {
        "id": "lxxrSs8A5KER"
      },
      "source": [
        "# 3. Indexing and Slicing"
      ]
    },
    {
      "cell_type": "markdown",
      "metadata": {
        "id": "Z_a389VI5KET"
      },
      "source": [
        "**3.1 Indexing**"
      ]
    },
    {
      "cell_type": "markdown",
      "metadata": {
        "id": "oA4Iu7nt5KEU"
      },
      "source": [
        "The items of an array can be accessed and assigned to the same way as other **Python sequences (e.g. lists)**:"
      ]
    },
    {
      "cell_type": "code",
      "metadata": {
        "id": "F4VuVNHU5KEW",
        "outputId": "9be40458-4e9d-40c9-ad1a-7acc735a65f8",
        "colab": {
          "base_uri": "https://localhost:8080/"
        }
      },
      "source": [
        "a = ip.arange(10)\n",
        "print(a)\n",
        "print(a[5])  #indices begin at 0, like other Python sequences (and C/C++)"
      ],
      "execution_count": 39,
      "outputs": [
        {
          "output_type": "stream",
          "name": "stdout",
          "text": [
            "[0 1 2 3 4 5 6 7 8 9]\n",
            "5\n"
          ]
        }
      ]
    },
    {
      "cell_type": "code",
      "metadata": {
        "id": "9hwCCtDL5KEb",
        "outputId": "99216f53-4af5-413d-c4d6-c5b6ae1a9e85",
        "colab": {
          "base_uri": "https://localhost:8080/"
        }
      },
      "source": [
        "# For multidimensional arrays, indexes are tuples of integers:\n",
        "\n",
        "a = ip.diag([1, 2, 3])\n",
        "print(a)\n",
        "print(a[2, 2])"
      ],
      "execution_count": 40,
      "outputs": [
        {
          "output_type": "stream",
          "name": "stdout",
          "text": [
            "[[1 0 0]\n",
            " [0 2 0]\n",
            " [0 0 3]]\n",
            "3\n"
          ]
        }
      ]
    },
    {
      "cell_type": "code",
      "metadata": {
        "id": "bS9JIqhw5KEf",
        "outputId": "91405a9e-77e4-41e0-fe54-03f7237ddc75",
        "colab": {
          "base_uri": "https://localhost:8080/"
        }
      },
      "source": [
        "a[2, 1] = 5 #assigning value\n",
        "\n",
        "a"
      ],
      "execution_count": null,
      "outputs": [
        {
          "output_type": "execute_result",
          "data": {
            "text/plain": [
              "array([[1, 0, 0],\n",
              "       [0, 2, 0],\n",
              "       [0, 5, 3]])"
            ]
          },
          "metadata": {},
          "execution_count": 38
        }
      ]
    },
    {
      "cell_type": "markdown",
      "metadata": {
        "id": "oKY3p8dz5KEi"
      },
      "source": [
        "**3.2 Slicing**"
      ]
    },
    {
      "cell_type": "code",
      "metadata": {
        "id": "LJ7vz5uf5KEj",
        "outputId": "bb5af577-1a9a-4bb7-efc1-733a138a0aef",
        "colab": {
          "base_uri": "https://localhost:8080/"
        }
      },
      "source": [
        "a = ip.arange(10)\n",
        "\n",
        "a"
      ],
      "execution_count": 41,
      "outputs": [
        {
          "output_type": "execute_result",
          "data": {
            "text/plain": [
              "array([0, 1, 2, 3, 4, 5, 6, 7, 8, 9])"
            ]
          },
          "metadata": {},
          "execution_count": 41
        }
      ]
    },
    {
      "cell_type": "code",
      "metadata": {
        "id": "5-XmC2tC5KEr",
        "outputId": "48748d9b-703c-43aa-c6ea-76826892b18e",
        "colab": {
          "base_uri": "https://localhost:8080/"
        }
      },
      "source": [
        "a[1:8:2] # [startindex: endindex(exclusive) : step]"
      ],
      "execution_count": null,
      "outputs": [
        {
          "output_type": "execute_result",
          "data": {
            "text/plain": [
              "array([1, 3, 5, 7])"
            ]
          },
          "metadata": {},
          "execution_count": 40
        }
      ]
    },
    {
      "cell_type": "code",
      "metadata": {
        "id": "kCvFrEFK5KEv",
        "outputId": "4b78740e-5fdd-4fcb-9afc-37d385919d19",
        "colab": {
          "base_uri": "https://localhost:8080/"
        }
      },
      "source": [
        "#we can also combine assignment and slicing:\n",
        "\n",
        "a = ip.arange(10)\n",
        "print(a)\n",
        "a[5:] = 10\n",
        "a"
      ],
      "execution_count": 42,
      "outputs": [
        {
          "output_type": "stream",
          "name": "stdout",
          "text": [
            "[0 1 2 3 4 5 6 7 8 9]\n"
          ]
        },
        {
          "output_type": "execute_result",
          "data": {
            "text/plain": [
              "array([ 0,  1,  2,  3,  4, 10, 10, 10, 10, 10])"
            ]
          },
          "metadata": {},
          "execution_count": 42
        }
      ]
    },
    {
      "cell_type": "code",
      "metadata": {
        "id": "Mnj-1D8y5KE0",
        "outputId": "1c85599b-2c0a-47ed-f5bf-f7dfb91fd171",
        "colab": {
          "base_uri": "https://localhost:8080/"
        }
      },
      "source": [
        "b = ip.arange(5)\n",
        "print(b)\n",
        "a[5:] = b[::-1]  #assigning\n",
        "\n",
        "a"
      ],
      "execution_count": 43,
      "outputs": [
        {
          "output_type": "stream",
          "name": "stdout",
          "text": [
            "[0 1 2 3 4]\n"
          ]
        },
        {
          "output_type": "execute_result",
          "data": {
            "text/plain": [
              "array([0, 1, 2, 3, 4, 4, 3, 2, 1, 0])"
            ]
          },
          "metadata": {},
          "execution_count": 43
        }
      ]
    },
    {
      "cell_type": "markdown",
      "metadata": {
        "id": "BzcH6VRZ5KFc"
      },
      "source": [
        "# 4. Fancy Indexing"
      ]
    },
    {
      "cell_type": "markdown",
      "metadata": {
        "id": "hpi-JUwC5KFc"
      },
      "source": [
        "NumPy arrays can be indexed with slices, but also with boolean or integer arrays **(masks)**. This method is called **fancy indexing**. It creates copies not views."
      ]
    },
    {
      "cell_type": "markdown",
      "metadata": {
        "id": "RJtFgW0o5KFf"
      },
      "source": [
        "**Using Boolean Mask**"
      ]
    },
    {
      "cell_type": "code",
      "metadata": {
        "id": "Zb5eSA455KFn",
        "outputId": "c5f699f7-c658-4b59-e25d-b7b04bade3d3",
        "colab": {
          "base_uri": "https://localhost:8080/"
        }
      },
      "source": [
        "a = ip.random.randint(0, 20, 55)\n",
        "a"
      ],
      "execution_count": 44,
      "outputs": [
        {
          "output_type": "execute_result",
          "data": {
            "text/plain": [
              "array([15, 17,  8, 15,  8,  0,  9,  3, 19, 19,  0,  1, 12, 11,  3,  1, 16,\n",
              "       11,  4,  0,  4, 10,  2, 18, 16,  3,  1, 11,  0,  8, 18,  3, 16, 14,\n",
              "        8, 15,  0,  3,  3,  7, 12,  1,  2, 18, 16,  6,  5,  3,  0, 14,  3,\n",
              "       16, 14, 12,  9])"
            ]
          },
          "metadata": {},
          "execution_count": 44
        }
      ]
    },
    {
      "cell_type": "code",
      "metadata": {
        "id": "EaIy9IdS5KFq"
      },
      "source": [
        "mask = (a % 2 == 0)"
      ],
      "execution_count": 55,
      "outputs": []
    },
    {
      "cell_type": "code",
      "metadata": {
        "id": "F7YUrhyv5KFt",
        "outputId": "35004fa6-030e-4b60-b187-3fee8411ee20",
        "colab": {
          "base_uri": "https://localhost:8080/"
        }
      },
      "source": [
        "extract_from_a = a[mask]\n",
        "\n",
        "extract_from_a"
      ],
      "execution_count": 56,
      "outputs": [
        {
          "output_type": "execute_result",
          "data": {
            "text/plain": [
              "array([ 0, 10, 20, 30, 40, 50, 60, 70, 80, 90])"
            ]
          },
          "metadata": {},
          "execution_count": 56
        }
      ]
    },
    {
      "cell_type": "markdown",
      "metadata": {
        "id": "cgMKaiDh5KFx"
      },
      "source": [
        "**Indexing with a mask can be very useful to assign a new value to a sub-array:**"
      ]
    },
    {
      "cell_type": "code",
      "metadata": {
        "id": "AMnQz8f15KFx",
        "outputId": "4444b05c-fa1a-448b-c856-7d5a79a04883",
        "colab": {
          "base_uri": "https://localhost:8080/"
        }
      },
      "source": [
        "a[mask] = -1\n",
        "a"
      ],
      "execution_count": 57,
      "outputs": [
        {
          "output_type": "execute_result",
          "data": {
            "text/plain": [
              "array([-1, -1, -1, -1, -1, -1, -1, -1, -1, -1])"
            ]
          },
          "metadata": {},
          "execution_count": 57
        }
      ]
    },
    {
      "cell_type": "markdown",
      "metadata": {
        "id": "Z0y-Uzk75KF0"
      },
      "source": [
        "**Indexing with an array of integers**"
      ]
    },
    {
      "cell_type": "code",
      "metadata": {
        "id": "2cdfdqQn5KF1",
        "outputId": "8e755980-e3a0-4fbd-885e-9173257c88b5",
        "colab": {
          "base_uri": "https://localhost:8080/"
        }
      },
      "source": [
        "a = ip.arange(0, 100, 10)\n",
        "\n",
        "a"
      ],
      "execution_count": 50,
      "outputs": [
        {
          "output_type": "execute_result",
          "data": {
            "text/plain": [
              "array([ 0, 10, 20, 30, 40, 50, 60, 70, 80, 90])"
            ]
          },
          "metadata": {},
          "execution_count": 50
        }
      ]
    },
    {
      "cell_type": "code",
      "metadata": {
        "id": "YlxMqvLm5KF4",
        "outputId": "43907516-029c-4bbb-e7ac-58579def4f5a",
        "colab": {
          "base_uri": "https://localhost:8080/"
        }
      },
      "source": [
        "#Indexing can be done with an array of integers, where the same index is repeated several time:\n",
        "\n",
        "a[[2, 3, 2, 4, 2]]"
      ],
      "execution_count": null,
      "outputs": [
        {
          "output_type": "execute_result",
          "data": {
            "text/plain": [
              "array([20, 30, 20, 40, 20])"
            ]
          },
          "metadata": {},
          "execution_count": 48
        }
      ]
    },
    {
      "cell_type": "code",
      "metadata": {
        "id": "czX77cEZ5KF6",
        "outputId": "9e00efa7-a3d8-4697-f30d-e534d7bc6961",
        "colab": {
          "base_uri": "https://localhost:8080/"
        }
      },
      "source": [
        "# New values can be assigned\n",
        "\n",
        "a[[9, 7]] = -200\n",
        "\n",
        "a"
      ],
      "execution_count": null,
      "outputs": [
        {
          "output_type": "execute_result",
          "data": {
            "text/plain": [
              "array([   0,   10,   20,   30,   40,   50,   60, -200,   80, -200])"
            ]
          },
          "metadata": {},
          "execution_count": 49
        }
      ]
    },
    {
      "cell_type": "code",
      "source": [],
      "metadata": {
        "id": "YX3d_n4dJugj"
      },
      "execution_count": null,
      "outputs": []
    }
  ]
}