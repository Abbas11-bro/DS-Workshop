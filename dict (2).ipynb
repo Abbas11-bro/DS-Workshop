{
  "cells": [
    {
      "cell_type": "markdown",
      "metadata": {
        "id": "s6wRWQbM8YWK"
      },
      "source": [
        "# Dictionary"
      ]
    },
    {
      "cell_type": "markdown",
      "metadata": {
        "id": "CQgSdaRE8YWP"
      },
      "source": [
        "Python dictionary is an unordered collection of items. While other compound data types have only value as an element, a dictionary has a key: value pair."
      ]
    },
    {
      "cell_type": "markdown",
      "metadata": {
        "id": "QNZdRerx8YWQ"
      },
      "source": [
        "# Dict Creation"
      ]
    },
    {
      "cell_type": "code",
      "execution_count": 1,
      "metadata": {
        "colab": {
          "base_uri": "https://localhost:8080/"
        },
        "id": "PhZ00ce88YWS",
        "outputId": "d1a25bbd-fdc7-4c6e-83fa-3bf41660dd6b"
      },
      "outputs": [
        {
          "output_type": "stream",
          "name": "stdout",
          "text": [
            "{1: 'Abbas', 2: 'Giraffe'}\n",
            "{'name': 'Daaim', 1: ['Abbas', 'Giraffe']}\n",
            "{1: 'Abbas', 2: 'Daaim'}\n"
          ]
        }
      ],
      "source": [
        "#empty dictionary\n",
        "my_dict = {}\n",
        "\n",
        "#dictionary with integer keys\n",
        "my_dict = {1: 'Abbas', 2: 'Giraffe'}\n",
        "print(my_dict)\n",
        "\n",
        "#dictionary with mixed keys\n",
        "my_dict = {'name': 'Daaim', 1: ['Abbas', 'Giraffe']}\n",
        "print(my_dict)\n",
        "\n",
        "\n",
        "#create empty dictionary using dict()\n",
        "my_dict = dict()\n",
        "\n",
        "my_dict = dict([(1, 'Abbas'), (2, 'Daaim')])    #create a dict with list of tuples\n",
        "print(my_dict)"
      ]
    },
    {
      "cell_type": "markdown",
      "metadata": {
        "id": "CsZFln1r8YWf"
      },
      "source": [
        "# Dict Access"
      ]
    },
    {
      "cell_type": "code",
      "execution_count": 2,
      "metadata": {
        "colab": {
          "base_uri": "https://localhost:8080/"
        },
        "id": "nCQLFclM8YWh",
        "outputId": "d260763c-c48b-4429-97e2-25e686960945"
      },
      "outputs": [
        {
          "output_type": "stream",
          "name": "stdout",
          "text": [
            "Ulwe\n"
          ]
        }
      ],
      "source": [
        "my_dict = {'name': 'Abbas', 'age': 18, 'address': 'Ulwe'}\n",
        "\n",
        "#get name\n",
        "print(my_dict['address'])"
      ]
    },
    {
      "cell_type": "code",
      "execution_count": null,
      "metadata": {
        "id": "BYsuLB548YWl",
        "outputId": "d92d3779-af54-41f6-e0c7-7f2ce831e7e4"
      },
      "outputs": [
        {
          "ename": "KeyError",
          "evalue": "'degree'",
          "output_type": "error",
          "traceback": [
            "\u001b[1;31m---------------------------------------------------------------------------\u001b[0m",
            "\u001b[1;31mKeyError\u001b[0m                                  Traceback (most recent call last)",
            "Cell \u001b[1;32mIn[3], line 2\u001b[0m\n\u001b[0;32m      1\u001b[0m \u001b[38;5;66;03m#if key is not present it gives KeyError\u001b[39;00m\n\u001b[1;32m----> 2\u001b[0m \u001b[38;5;28mprint\u001b[39m(\u001b[43mmy_dict\u001b[49m\u001b[43m[\u001b[49m\u001b[38;5;124;43m'\u001b[39;49m\u001b[38;5;124;43mdegree\u001b[39;49m\u001b[38;5;124;43m'\u001b[39;49m\u001b[43m]\u001b[49m)\n",
            "\u001b[1;31mKeyError\u001b[0m: 'degree'"
          ]
        }
      ],
      "source": [
        "#if key is not present it gives KeyError\n",
        "print(my_dict['degree'])"
      ]
    },
    {
      "cell_type": "code",
      "execution_count": null,
      "metadata": {
        "id": "WNJMH4qp8YWo",
        "outputId": "f9a5a7e4-dc63-4c7d-dd77-b71ecb9e51fb"
      },
      "outputs": [
        {
          "name": "stdout",
          "output_type": "stream",
          "text": [
            "guntur\n"
          ]
        }
      ],
      "source": [
        "#another way of accessing key\n",
        "print(my_dict.get('address'))"
      ]
    },
    {
      "cell_type": "code",
      "execution_count": 3,
      "metadata": {
        "colab": {
          "base_uri": "https://localhost:8080/"
        },
        "id": "fwrZjWaD8YWs",
        "outputId": "a43fe30f-b0df-4f63-88f8-a6aff6285942"
      },
      "outputs": [
        {
          "output_type": "stream",
          "name": "stdout",
          "text": [
            "None\n"
          ]
        }
      ],
      "source": [
        "#if key is not present it will give None using get method\n",
        "print(my_dict.get('Salary'))"
      ]
    },
    {
      "cell_type": "markdown",
      "metadata": {
        "id": "QVQG50dG8YWy"
      },
      "source": [
        "# Dict Add or Modify  Elements"
      ]
    },
    {
      "cell_type": "code",
      "execution_count": 4,
      "metadata": {
        "colab": {
          "base_uri": "https://localhost:8080/"
        },
        "id": "Cg9LrSiL8YW0",
        "outputId": "5eea2a32-91b1-4876-d153-9155527a1286"
      },
      "outputs": [
        {
          "output_type": "stream",
          "name": "stdout",
          "text": [
            "{'name': 'satish', 'age': 27, 'address': 'guntur', 'Address': 'ulwe'}\n"
          ]
        }
      ],
      "source": [
        "my_dict = {'name': 'satish', 'age': 27, 'address': 'guntur'}\n",
        "\n",
        "#update name\n",
        "my_dict['Address'] = 'ulwe'\n",
        "\n",
        "print(my_dict)"
      ]
    },
    {
      "cell_type": "code",
      "execution_count": 5,
      "metadata": {
        "colab": {
          "base_uri": "https://localhost:8080/"
        },
        "id": "CZ2yD3Yv8YW5",
        "outputId": "379bbd1b-d911-4b7f-e17e-22780c22869b"
      },
      "outputs": [
        {
          "output_type": "stream",
          "name": "stdout",
          "text": [
            "{'name': 'satish', 'age': 27, 'address': 'guntur', 'Address': 'ulwe', 'Food': 'Kofta Biryani'}\n"
          ]
        }
      ],
      "source": [
        "#add new key\n",
        "my_dict['Food'] = 'Kofta Biryani'\n",
        "\n",
        "print(my_dict)"
      ]
    },
    {
      "cell_type": "markdown",
      "metadata": {
        "id": "JlbqO1N78YW8"
      },
      "source": [
        "# Dict Delete or Remove Element"
      ]
    },
    {
      "cell_type": "code",
      "execution_count": 6,
      "metadata": {
        "colab": {
          "base_uri": "https://localhost:8080/"
        },
        "id": "8WJsHD9E8YW9",
        "outputId": "a5c40eca-57da-4551-d408-3ca8c9059579"
      },
      "outputs": [
        {
          "output_type": "stream",
          "name": "stdout",
          "text": [
            "satish\n",
            "{'age': 27, 'address': 'guntur'}\n"
          ]
        }
      ],
      "source": [
        "#create a dictionary\n",
        "my_dict = {'name': 'satish', 'age': 27, 'address': 'guntur'}\n",
        "\n",
        "#remove a particular item\n",
        "print(my_dict.pop('name'))\n",
        "\n",
        "print(my_dict)"
      ]
    },
    {
      "cell_type": "code",
      "execution_count": null,
      "metadata": {
        "id": "l65nK-cQ8YXA",
        "outputId": "62583228-7758-4d6c-bf6c-76bda6c8df8b"
      },
      "outputs": [
        {
          "name": "stdout",
          "output_type": "stream",
          "text": [
            "{'name': 'satish', 'age': 27}\n"
          ]
        }
      ],
      "source": [
        "my_dict = {'name': 'satish', 'age': 27, 'address': 'guntur'}\n",
        "\n",
        "#remove an arbitarty key\n",
        "my_dict.popitem()\n",
        "\n",
        "print(my_dict)"
      ]
    },
    {
      "cell_type": "code",
      "execution_count": 7,
      "metadata": {
        "colab": {
          "base_uri": "https://localhost:8080/"
        },
        "id": "TY12fl4Q8YXD",
        "outputId": "2df54a6f-8e02-47c6-e54f-07d715c6edee"
      },
      "outputs": [
        {
          "output_type": "stream",
          "name": "stdout",
          "text": [
            "{2: 4, 3: 9, 4: 16}\n"
          ]
        }
      ],
      "source": [
        "squares = {2: 4, 3: 9, 4: 16, 5: 25}\n",
        "\n",
        "#delete particular key\n",
        "del squares[5]\n",
        "\n",
        "print(squares)"
      ]
    },
    {
      "cell_type": "code",
      "execution_count": null,
      "metadata": {
        "id": "WaE9o6-j8YXG",
        "outputId": "3b26053a-8ce1-4da0-bc7d-8a019b20699c"
      },
      "outputs": [
        {
          "name": "stdout",
          "output_type": "stream",
          "text": [
            "{}\n"
          ]
        }
      ],
      "source": [
        "#remove all items\n",
        "squares.clear()\n",
        "\n",
        "print(squares)"
      ]
    },
    {
      "cell_type": "code",
      "execution_count": null,
      "metadata": {
        "id": "LUrIAJo58YXK",
        "outputId": "8bc10a7e-15e8-461f-e743-41da6e57c898"
      },
      "outputs": [
        {
          "ename": "NameError",
          "evalue": "name 'squares' is not defined",
          "output_type": "error",
          "traceback": [
            "\u001b[1;31m---------------------------------------------------------------------------\u001b[0m",
            "\u001b[1;31mNameError\u001b[0m                                 Traceback (most recent call last)",
            "Cell \u001b[1;32mIn[12], line 6\u001b[0m\n\u001b[0;32m      3\u001b[0m \u001b[38;5;66;03m#delete dictionary itself\u001b[39;00m\n\u001b[0;32m      4\u001b[0m \u001b[38;5;28;01mdel\u001b[39;00m squares\n\u001b[1;32m----> 6\u001b[0m \u001b[38;5;28mprint\u001b[39m(\u001b[43msquares\u001b[49m)\n",
            "\u001b[1;31mNameError\u001b[0m: name 'squares' is not defined"
          ]
        }
      ],
      "source": [
        "squares = {2: 4, 3: 9, 4: 16, 5: 25}\n",
        "\n",
        "#delete dictionary itself\n",
        "del squares\n",
        "\n",
        "print(squares) #NameError because dict is deleted"
      ]
    },
    {
      "cell_type": "markdown",
      "metadata": {
        "id": "umrKAvuz8YXP"
      },
      "source": [
        "# Dictionary Methods"
      ]
    },
    {
      "cell_type": "code",
      "execution_count": null,
      "metadata": {
        "id": "pC6eM-Uz8YXQ",
        "outputId": "06a4c7f4-113c-44ac-a1fd-086511705807"
      },
      "outputs": [
        {
          "name": "stdout",
          "output_type": "stream",
          "text": [
            "{2: 4, 3: 9, 4: 16, 5: 25}\n"
          ]
        }
      ],
      "source": [
        "squares = {2: 4, 3: 9, 4: 16, 5: 25}\n",
        "\n",
        "my_dict = squares.copy()\n",
        "print(my_dict)"
      ]
    },
    {
      "cell_type": "code",
      "execution_count": null,
      "metadata": {
        "id": "8smTk2Jr8YXT",
        "outputId": "242de0a4-d809-4328-e13f-f72f2ce35aa9"
      },
      "outputs": [
        {
          "name": "stdout",
          "output_type": "stream",
          "text": [
            "{'Math': 0, 'English': 0, 'Hindi': 0}\n"
          ]
        }
      ],
      "source": [
        "#fromkeys[seq[, v]] -> Return a new dictionary with keys from seq and value equal to v (defaults to None).\n",
        "subjects = {}.fromkeys(['Math', 'English', 'Hindi'], 0)\n",
        "print(subjects)"
      ]
    },
    {
      "cell_type": "code",
      "execution_count": null,
      "metadata": {
        "id": "-wW9T7Id8YXW",
        "outputId": "49fac564-9a97-4107-832b-1ab7d4da03dc"
      },
      "outputs": [
        {
          "name": "stdout",
          "output_type": "stream",
          "text": [
            "dict_items([(2, 4), (3, 9), (4, 16), (5, 25)])\n"
          ]
        }
      ],
      "source": [
        "subjects = {2:4, 3:9, 4:16, 5:25}\n",
        "print(subjects.items()) #return a new view of the dictionary items (key, value)"
      ]
    },
    {
      "cell_type": "code",
      "execution_count": null,
      "metadata": {
        "id": "YMjrhvUr8YXZ",
        "outputId": "1a1eceaf-43f1-433e-95fc-dafb9087d2c0"
      },
      "outputs": [
        {
          "name": "stdout",
          "output_type": "stream",
          "text": [
            "dict_keys([2, 3, 4, 5])\n"
          ]
        }
      ],
      "source": [
        "subjects = {2:4, 3:9, 4:16, 5:25}\n",
        "print(subjects.keys()) #return a new view of the dictionary keys"
      ]
    },
    {
      "cell_type": "code",
      "execution_count": null,
      "metadata": {
        "id": "B2AU0n-Z8YXd",
        "outputId": "358facae-79f4-4e30-8e6f-8c388e0441af"
      },
      "outputs": [
        {
          "name": "stdout",
          "output_type": "stream",
          "text": [
            "dict_values([4, 9, 16, 25])\n"
          ]
        }
      ],
      "source": [
        "subjects = {2:4, 3:9, 4:16, 5:25}\n",
        "print(subjects.values()) #return a new view of the dictionary values"
      ]
    },
    {
      "cell_type": "markdown",
      "metadata": {
        "id": "YCcb_-y_8YXo"
      },
      "source": [
        "# Dict Comprehension"
      ]
    },
    {
      "cell_type": "code",
      "execution_count": null,
      "metadata": {
        "id": "b8nEYWrB8YXr",
        "outputId": "2dcb519c-f2a1-4301-8cc8-b85ffd6b624b"
      },
      "outputs": [
        {
          "name": "stdout",
          "output_type": "stream",
          "text": [
            "('a', 1)\n",
            "('b', 2)\n",
            "('c', 3)\n"
          ]
        }
      ],
      "source": [
        "#Dict comprehensions are just like list comprehensions but for dictionaries\n",
        "\n",
        "d = {'a': 1, 'b': 2, 'c': 3}\n",
        "for pair in d.items():\n",
        "    print(pair)"
      ]
    },
    {
      "cell_type": "code",
      "execution_count": null,
      "metadata": {
        "id": "sKVoZ74V8YXw",
        "outputId": "c88ef99f-ba54-49dc-d619-1f7d448aba5c"
      },
      "outputs": [
        {
          "name": "stdout",
          "output_type": "stream",
          "text": [
            "{'c': 3, 'd': 4}\n"
          ]
        }
      ],
      "source": [
        "#Creating a new dictionary with only pairs where the value is larger than 2\n",
        "d = {'a': 1, 'b': 2, 'c': 3, 'd': 4}\n",
        "new_dict = {k:v for k, v in d.items() if v > 2}\n",
        "print(new_dict)"
      ]
    },
    {
      "cell_type": "code",
      "execution_count": null,
      "metadata": {
        "id": "g8b_0DPE8YX1"
      },
      "outputs": [],
      "source": []
    }
  ],
  "metadata": {
    "colab": {
      "provenance": []
    },
    "kernelspec": {
      "display_name": "base",
      "language": "python",
      "name": "python3"
    },
    "language_info": {
      "codemirror_mode": {
        "name": "ipython",
        "version": 3
      },
      "file_extension": ".py",
      "mimetype": "text/x-python",
      "name": "python",
      "nbconvert_exporter": "python",
      "pygments_lexer": "ipython3",
      "version": "3.9.13"
    }
  },
  "nbformat": 4,
  "nbformat_minor": 0
}